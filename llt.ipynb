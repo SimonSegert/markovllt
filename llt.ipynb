{
 "cells": [
  {
   "cell_type": "code",
   "execution_count": 1,
   "metadata": {},
   "outputs": [],
   "source": [
    "import numpy as np\n",
    "import matplotlib.pyplot as plt\n",
    "from numpy.linalg import matrix_power\n",
    "from numpy.fft import ifft as inverse_dft\n",
    "import pandas as pd\n"
   ]
  },
  {
   "cell_type": "code",
   "execution_count": 2,
   "metadata": {},
   "outputs": [],
   "source": [
    "# Class to compute exact distribution of S_n for discrete Markov Additive Process"
   ]
  },
  {
   "cell_type": "code",
   "execution_count": 3,
   "metadata": {},
   "outputs": [],
   "source": [
    "class ValueMarkovChain():\n",
    "    #markov chain that has associated value with each transition\n",
    "    def __init__(self,T,V,pi):\n",
    "        #T=transition matrix: T(k',k)=probability of transition from k' to k\n",
    "        #V=value matrix V(k',k)=value of transition from k' to k (integer)\n",
    "        self.T=T\n",
    "        self.V=V\n",
    "        self.pi=pi#initial distribution\n",
    "        self.K=len(T) #number of states\n",
    "        \n",
    "        #verify inputs\n",
    "        assert np.all(pi>=0)\n",
    "        assert np.abs(np.sum(pi)-1)<10**-6\n",
    "        assert T.shape==(self.K,self.K)\n",
    "        assert V.shape==(self.K,self.K)\n",
    "        assert T.min()>=0\n",
    "        assert np.all(np.abs(T.sum(1)-np.ones(self.K))<10**-6)\n",
    "        assert np.all(np.abs(V.astype('int')-V)<10**-6)\n",
    "    def pgf(self,z,n):\n",
    "        #evaluate probability generating function of S_n at complex value z\n",
    "        #S_n=cumulative score after n states (n-1 transitions)\n",
    "        A=self.T*z**(1.0*self.V)\n",
    "        A=matrix_power(A,n-1)\n",
    "        return (A.sum(1)*self.pi).sum()\n",
    "    def get_distribution(self,n):\n",
    "        #exact distribution of S_n\n",
    "        #computed using fast fourier transform\n",
    "        offset=max(np.max(-self.V),0)#largest negative value, or 0 if all entries are non-negative\n",
    "        self.V=self.V+offset #convert to non-negative values\n",
    "        N=np.max(self.V)*n+1 #maximal range of Y_n, corresponds to \"n\" in the numpy.fft implementation\n",
    "        z0=np.exp(-2*np.pi*1j/N)\n",
    "        ft=np.array([self.pgf(z0**k,n) for k in range(N)])\n",
    "        p=inverse_dft(ft).real\n",
    "        vals=np.arange(N)-offset*(n-1)\n",
    "        self.V=self.V-offset #convert back to original values\n",
    "        return vals,p"
   ]
  },
  {
   "cell_type": "markdown",
   "metadata": {},
   "source": [
    "# Helper functions"
   ]
  },
  {
   "cell_type": "code",
   "execution_count": 4,
   "metadata": {},
   "outputs": [],
   "source": [
    "def rho(M): #complex-valued spectral radius of a matrix\n",
    "    evals=np.linalg.eig(M)[0]\n",
    "    ids=np.argsort(np.abs(evals))\n",
    "    return evals[ids[-1]]\n",
    "def get_sr_moments(T,V,pi): #derivatives of spectral radius rho(Te^{tV}) at t=0\n",
    "    K=len(T)\n",
    "    Q=np.linalg.pinv(np.eye(K)-T)\n",
    "    k1=(pi.T@(T*V)).sum()\n",
    "    k2=(pi.T@(T*V*V)).sum()+2*((pi.T)@((T*V)@Q@(T*V))).sum()\n",
    "    E1=T*V\n",
    "    E2=T*V*V/2\n",
    "    E3=T*V*V*V/6\n",
    "    M=E3+E1@Q@E2+E2@Q@E1+E1@Q@(-k1*np.eye(K)+E1)@Q@E1\n",
    "    k3=(pi.T@M).sum()\n",
    "    return k1,k2,k3\n",
    "    \n"
   ]
  },
  {
   "cell_type": "code",
   "execution_count": 5,
   "metadata": {},
   "outputs": [],
   "source": [
    "#functions for generating string-counting transition matrix/value functions\n",
    "def bin_exp(n,min_length=-1):\n",
    "    #binary expansion with least significant digit first\n",
    "    if n<2:\n",
    "        return [n%2]+[0]*max(min_length-1,0)\n",
    "    else:\n",
    "        return [n%2]+bin_exp((n-n%2)//2,min_length=min_length-1)\n",
    "def bin_to_int(b):\n",
    "    #binary expansion with least significant digit first to integer\n",
    "    if len(b)==0:\n",
    "        return 0\n",
    "    return b[0]+2*bin_to_int(b[1:])\n",
    "def get_substring_T(L):\n",
    "    #transition matrix for all substrings of length L\n",
    "    T=np.zeros((2**(L),2**(L)))\n",
    "    #each index corresponds to a binary string (least significant digit first)\n",
    "    #say i<->s for some substring s\n",
    "    #we can extract the last digits i-> (i-i%2)/2 \n",
    "    #these should be the first digits of possible target so i'+2^{L-1} and i'\n",
    "    for i in range(len(T)):\n",
    "        i2=(i-i%2)//2\n",
    "        T[i,i2]=1/2\n",
    "        T[i,i2+2**(L-1)]=1/2\n",
    "    return T\n",
    "\n",
    "def sample_substring_problem(L):\n",
    "    #sample random (centered) value function for the substring-transition matrix\n",
    "    T=get_substring_T(L) #substring transition matrix\n",
    "    pi=np.ones(len(T))/len(T) #uniform is always stationary distribution\n",
    "    #value matrix with randomly selected targets\n",
    "    V=np.zeros(T.shape).astype('int')\n",
    "    xs,ys=np.where(T>0)\n",
    "    v=np.random.choice(np.arange(-5,4),size=len(xs))\n",
    "    i0=np.random.choice(len(xs))\n",
    "    v[i0]-=v.sum() #ensure V is centered\n",
    "    for xi,xj,c in zip(xs,ys,v):\n",
    "        V[xi,xj]=c\n",
    "    return T,V,pi"
   ]
  },
  {
   "cell_type": "markdown",
   "metadata": {},
   "source": [
    "# Comparison of numerical values with asymptotic values"
   ]
  },
  {
   "cell_type": "code",
   "execution_count": 6,
   "metadata": {},
   "outputs": [],
   "source": [
    "res=[]\n",
    "n_range=[25,50,100,500]\n",
    "for idx in range(100):\n",
    "    T,V,pi=sample_substring_problem(4) #substring transition matrix + randomly-generated value function\n",
    "    m0=ValueMarkovChain(T,V,pi)\n",
    "    k1,k2,k3=get_sr_moments(T,V,pi) #derivatives of rho(Te^{tV}) at t=0\n",
    "    analytic_val=-.5/k2**.5+k3/(k2)**1.5 #analytic value predicted by local limit theorem \n",
    "    for n in n_range:\n",
    "        vals,probs=m0.get_distribution(n) #exact probability distribution of S_n\n",
    "        est_val=(probs[vals<0].sum()-.5)*(2*np.pi*n)**.5\n",
    "        res.append([idx,n,analytic_val,est_val])\n",
    "res=pd.DataFrame(res,columns=['id','n','analytic','est'])\n"
   ]
  },
  {
   "cell_type": "code",
   "execution_count": 7,
   "metadata": {},
   "outputs": [
    {
     "data": {
      "image/png": "[encoded data removed]",
      "text/plain": [
       "<Figure size 720x360 with 4 Axes>"
      ]
     },
     "metadata": {
      "needs_background": "light"
     },
     "output_type": "display_data"
    }
   ],
   "source": [
    "xmin=res['analytic'].min()\n",
    "xmax=res['analytic'].max()\n",
    "ymin=res['est'].min()\n",
    "ymax=res['est'].max()\n",
    "plt.figure(figsize=(10,5))\n",
    "for i,n in enumerate(n_range):\n",
    "    plt.subplot(1,4,i+1)\n",
    "    res_n=res[res['n']==n]\n",
    "    plt.scatter(res_n['analytic'],res_n['est'])\n",
    "    plt.plot([xmin-.05,xmax+.05],[xmin-.05,xmax+.05],c='gray',linestyle='--',label='y=x')\n",
    "    plt.xlabel('analytic formula $C_{T,V}$')\n",
    "    plt.ylabel('estimated coefficient $\\widehat{C_{T,V,n}}$' if i==0 else '')\n",
    "    plt.title(f'n={n}')\n",
    "    plt.ylim(ymin-.05,ymax+.05)\n",
    "    if i>0:\n",
    "        plt.yticks([])\n",
    "    if i==0:\n",
    "        plt.legend()"
   ]
  }
 ],
 "metadata": {
  "kernelspec": {
   "display_name": "Python 3",
   "language": "python",
   "name": "python3"
  },
  "language_info": {
   "codemirror_mode": {
    "name": "ipython",
    "version": 3
   },
   "file_extension": ".py",
   "mimetype": "text/x-python",
   "name": "python",
   "nbconvert_exporter": "python",
   "pygments_lexer": "ipython3",
   "version": "3.7.3"
  }
 },
 "nbformat": 4,
 "nbformat_minor": 2
}
